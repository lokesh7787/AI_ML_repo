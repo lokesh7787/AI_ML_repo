{
 "cells": [
  {
   "cell_type": "code",
   "execution_count": 11,
   "metadata": {},
   "outputs": [],
   "source": [
    "import googleapiclient.discovery\n",
    "from Scrap import addNewDataChannelTable\n",
    "from Scrap import addNewDataCommentTable\n",
    "from datetime import datetime\n",
    "from Scrap import addNewDataVideoTable\n"
   ]
  },
  {
   "cell_type": "code",
   "execution_count": 12,
   "metadata": {},
   "outputs": [],
   "source": [
    "api_service_name = \"youtube\"\n",
    "api_version = \"v3\""
   ]
  },
  {
   "cell_type": "code",
   "execution_count": null,
   "metadata": {},
   "outputs": [],
   "source": [
    "api_key = \"Your API Key Data\""
   ]
  },
  {
   "cell_type": "code",
   "execution_count": 14,
   "metadata": {},
   "outputs": [],
   "source": [
    "youtube = googleapiclient.discovery.build(\n",
    "api_service_name, api_version, developerKey=api_key)"
   ]
  },
  {
   "cell_type": "code",
   "execution_count": 15,
   "metadata": {},
   "outputs": [],
   "source": [
    "def handleDateTimeFormate(time_str):\n",
    "    try:\n",
    "        time_obj = datetime.strptime(time_str, '%Y-%m-%dT%H:%M:%S.%fZ')\n",
    "    except ValueError:\n",
    "        # Fallback to parsing without microseconds\n",
    "        time_obj = datetime.strptime(time_str, '%Y-%m-%dT%H:%M:%SZ')\n",
    "    return time_obj"
   ]
  },
  {
   "cell_type": "code",
   "execution_count": 16,
   "metadata": {},
   "outputs": [],
   "source": [
    "def getCommentsListData(video_id):\n",
    "    comments_response = youtube.commentThreads().list(\n",
    "        part=\"snippet,replies\",\n",
    "        videoId=video_id\n",
    "    )\n",
    "    comments_response = comments_response.execute()\n",
    "    comment_information={}\n",
    "    for comment in comments_response['items']:\n",
    "        comment_information = {\n",
    "               \"Comment_Id\": comment['snippet']['topLevelComment']['id'],\n",
    "               \"Comment_Text\": comment['snippet']['topLevelComment']['snippet']['textDisplay'],\n",
    "               \"Comment_Author\": comment['snippet']['topLevelComment']['snippet']['authorDisplayName'],\n",
    "               \"Comment_PublishedAt\": handleDateTimeFormate(comment['snippet']['topLevelComment']['snippet']['publishedAt']), \n",
    "               \"Channel_id\":comment['snippet']['channelId'],\n",
    "               \"video_id\":comment['snippet']['videoId']\n",
    "               }\n",
    "        addNewDataCommentTable(comment_information)"
   ]
  },
  {
   "cell_type": "code",
   "execution_count": 17,
   "metadata": {},
   "outputs": [],
   "source": [
    "def getPlayListData(playlist_id):\n",
    "    playlist_videos = youtube.playlistItems().list(\n",
    "        part=\"snippet\",\n",
    "        playlistId=playlist_id\n",
    "    )\n",
    "    playlist_videos = playlist_videos.execute()\n",
    "    for item in playlist_videos['items']:\n",
    "        video_id = item['snippet']['resourceId']['videoId']\n",
    "        video_response = youtube.videos().list(\n",
    "            part='snippet,statistics,contentDetails',\n",
    "            id=video_id\n",
    "            ).execute()\n",
    "        if video_response['items']:\n",
    "            video_info=  {\n",
    "                \"Video_Id\": video_id,\n",
    "                \"Video_Name\": video_response['items'][0]['snippet']['title'] if 'title' in video_response['items'][0]['snippet'] else \"Not Available\",\n",
    "                \"Video_Description\": video_response['items'][0]['snippet']['description'],\n",
    "                'Channel_id':video_response['items'][0]['snippet']['channelId'],\n",
    "                'commentCount':video_response['items'][0]['statistics']['commentCount'],\n",
    "                \"view_Count\":video_response['items'][0]['statistics']['viewCount'],\n",
    "                \"like_count\":video_response['items'][0]['statistics']['likeCount'],\n",
    "                \"dis_like_Count\":video_response['items'][0]['statistics']['dislikeCount'] if 'dislikeCount' in video_response['items'][0]['statistics'] else \"0\" ,\n",
    "                \"durations\":video_response['items'][0]['contentDetails']['duration'],\n",
    "                \"published_date\":handleDateTimeFormate(video_response['items'][0]['snippet']['publishedAt'])\n",
    "                }\n",
    "            addNewDataVideoTable(video_info)\n",
    "            getCommentsListData(video_info['Video_Id'])\n",
    "            "
   ]
  },
  {
   "cell_type": "code",
   "execution_count": 18,
   "metadata": {},
   "outputs": [],
   "source": [
    "def channelInformationwithThumbnail(channel_id):\n",
    "    request = youtube.channels().list(\n",
    "        part=\"snippet,contentDetails,statistics\",\n",
    "        id= channel_id\n",
    "    )\n",
    "    response = request.execute()\n",
    "    \n",
    "    return{\n",
    "        'channel_id':response['items'][0]['id'],\n",
    "        'channel_name':response['items'][0]['snippet']['title'],\n",
    "        'channel_description' : response['items'][0]['snippet']['description'],\n",
    "        'channel_publishedAt': handleDateTimeFormate(response['items'][0]['snippet']['publishedAt']),\n",
    "        'playlists_id' : response['items'][0]['contentDetails']['relatedPlaylists']['uploads'],\n",
    "        'channel_sub_count': response['items'][0]['statistics']['subscriberCount'],\n",
    "        'channel_viewCount':response['items'][0]['statistics']['viewCount'] ,\n",
    "        'channel_videoCount':response['items'][0]['statistics']['videoCount'],\n",
    "        'thumbnails': response['items'][0]['snippet']['thumbnails']\n",
    "        } \n",
    "\n",
    "def channelInformation(channel_id):\n",
    "    request = youtube.channels().list(\n",
    "        part=\"snippet,contentDetails,statistics\",\n",
    "        id= channel_id\n",
    "    )\n",
    "    response = request.execute()\n",
    "    \n",
    "    channelInfo = {\n",
    "        'channel_id':response['items'][0]['id'],\n",
    "        'channel_name':response['items'][0]['snippet']['title'],\n",
    "        'channel_description' : response['items'][0]['snippet']['description'],\n",
    "        'channel_publishedAt': handleDateTimeFormate(response['items'][0]['snippet']['publishedAt']),\n",
    "        'playlists_id' : response['items'][0]['contentDetails']['relatedPlaylists']['uploads'],\n",
    "        'channel_sub_count': response['items'][0]['statistics']['subscriberCount'],\n",
    "        'channel_viewCount':response['items'][0]['statistics']['viewCount'] ,\n",
    "        'channel_videoCount':response['items'][0]['statistics']['videoCount']\n",
    "        }\n",
    "    addNewDataChannelTable(channelInfo)\n",
    "    getPlayListData(channelInfo['playlists_id'])"
   ]
  },
  {
   "cell_type": "code",
   "execution_count": null,
   "metadata": {},
   "outputs": [],
   "source": [
    "\n",
    "    "
   ]
  },
  {
   "cell_type": "code",
   "execution_count": 19,
   "metadata": {},
   "outputs": [],
   "source": [
    "#UC4M6aYfOcZBZHoBaNtYXpYA - Tech with Arul\n",
    "#UC_x5XG1OV2P6uZZ5FSM9Ttw - Google for Developers\n",
    "#UCos_WjZSSpb2YH9M3YLoVug - chill and grow\n",
    "#UC-hisIZlnsImYe7Y5M4qVFA - Hope AI\n",
    "#UC2YVnH6aMky1SMdmlo5S9-A - majaa matrix\n",
    "#UC-NLi5VEcehN-h589hdw-wA - because\n",
    "#UCma2b1uVLajAq9nHSEJh9HQ - shriram vasudevan\n",
    "#UC-tWbnw1b6Y5Wbo0145-0nQ - future scientist\n",
    "#UC_Xt2fhRqHpv3wdRH88FXHA - Mls media creation\n",
    "#UCciec0jLXOATJAp2UfLRREg - yohavinthedal\n",
    "\n"
   ]
  },
  {
   "cell_type": "code",
   "execution_count": null,
   "metadata": {},
   "outputs": [],
   "source": [
    "\n"
   ]
  },
  {
   "cell_type": "code",
   "execution_count": 20,
   "metadata": {},
   "outputs": [],
   "source": [
    "def setDbValues(channelId):\n",
    "    channelInformation(channelId)\n",
    "        \n",
    "    "
   ]
  }
 ],
 "metadata": {
  "kernelspec": {
   "display_name": "Python 3",
   "language": "python",
   "name": "python3"
  },
  "language_info": {
   "codemirror_mode": {
    "name": "ipython",
    "version": 3
   },
   "file_extension": ".py",
   "mimetype": "text/x-python",
   "name": "python",
   "nbconvert_exporter": "python",
   "pygments_lexer": "ipython3",
   "version": "3.12.4"
  }
 },
 "nbformat": 4,
 "nbformat_minor": 2
}
